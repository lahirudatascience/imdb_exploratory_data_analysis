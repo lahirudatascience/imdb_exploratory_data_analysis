{
 "cells": [
  {
   "cell_type": "markdown",
   "metadata": {},
   "source": [
    "# Exploratory Data Analysis of IMDb's Top Global Movies (1950-2020)\n",
    "\n",
    "This notebook contains the exploratory data analysis (EDA) for the dataset of IMDb's top global movies from 1950 to 2020. The analysis includes data loading, preprocessing, statistical analysis, and visualizations."
   ]
  },
  {
   "cell_type": "code",
   "execution_count": 1,
   "metadata": {},
   "outputs": [],
   "source": [
    "import pandas as pd\n",
    "import numpy as np\n",
    "import matplotlib.pyplot as plt\n",
    "import seaborn as sns"
   ]
  },
  {
   "cell_type": "markdown",
   "metadata": {},
   "source": [
    "## Load Data\n",
    "\n",
    "In this section, we will load the processed data from the `data/` directory."
   ]
  },
  {
   "cell_type": "code",
   "execution_count": 5,
   "metadata": {},
   "outputs": [
    {
     "data": {
      "text/html": [
       "<div>\n",
       "<style scoped>\n",
       "    .dataframe tbody tr th:only-of-type {\n",
       "        vertical-align: middle;\n",
       "    }\n",
       "\n",
       "    .dataframe tbody tr th {\n",
       "        vertical-align: top;\n",
       "    }\n",
       "\n",
       "    .dataframe thead th {\n",
       "        text-align: right;\n",
       "    }\n",
       "</style>\n",
       "<table border=\"1\" class=\"dataframe\">\n",
       "  <thead>\n",
       "    <tr style=\"text-align: right;\">\n",
       "      <th></th>\n",
       "      <th>Title</th>\n",
       "      <th>Year</th>\n",
       "      <th>Rating</th>\n",
       "      <th>Genre</th>\n",
       "      <th>Director(s)</th>\n",
       "      <th>Box Office Revenue</th>\n",
       "      <th>Lead Actors</th>\n",
       "    </tr>\n",
       "  </thead>\n",
       "  <tbody>\n",
       "    <tr>\n",
       "      <th>0</th>\n",
       "      <td>1. The Shawshank Redemption</td>\n",
       "      <td>1994</td>\n",
       "      <td>9.3 (3M)</td>\n",
       "      <td>Epic, Period Drama, Prison Drama, Drama</td>\n",
       "      <td>Bob Gunton, Frank Darabont, Morgan Freeman, Ti...</td>\n",
       "      <td>Gross worldwide$29,332,133</td>\n",
       "      <td>Bob Gunton, Tim Robbins, Morgan Freeman</td>\n",
       "    </tr>\n",
       "    <tr>\n",
       "      <th>1</th>\n",
       "      <td>2. The Godfather</td>\n",
       "      <td>1972</td>\n",
       "      <td>9.2 (2.1M)</td>\n",
       "      <td>Epic, Gangster, Tragedy, Crime, Drama</td>\n",
       "      <td>Al Pacino, Marlon Brando, Mario Puzo, Peter Cl...</td>\n",
       "      <td>Gross worldwide$250,342,198</td>\n",
       "      <td>Al Pacino, Marlon Brando, James Caan</td>\n",
       "    </tr>\n",
       "    <tr>\n",
       "      <th>2</th>\n",
       "      <td>3. The Dark Knight</td>\n",
       "      <td>2008</td>\n",
       "      <td>9.0 (3M)</td>\n",
       "      <td>Action Epic, Epic, Superhero, Tragedy, Action,...</td>\n",
       "      <td>Salvatore Maroni, Michael Caine, Christian Bal...</td>\n",
       "      <td>Gross worldwide$1,009,057,329</td>\n",
       "      <td>Christian Bale, Aaron Eckhart, Heath Ledger</td>\n",
       "    </tr>\n",
       "    <tr>\n",
       "      <th>3</th>\n",
       "      <td>4. The Godfather Part II</td>\n",
       "      <td>1974</td>\n",
       "      <td>9.0 (1.4M)</td>\n",
       "      <td>Epic, Gangster, Tragedy, Crime, Drama</td>\n",
       "      <td>Livio Giorgi, Al Pacino, Mario Puzo, Francis F...</td>\n",
       "      <td>Gross worldwide$47,964,222</td>\n",
       "      <td>Al Pacino, Robert De Niro, Robert Duvall</td>\n",
       "    </tr>\n",
       "    <tr>\n",
       "      <th>4</th>\n",
       "      <td>5. 12 Angry Men</td>\n",
       "      <td>1957</td>\n",
       "      <td>9.0 (917K)</td>\n",
       "      <td>Legal Drama, Psychological Drama, Crime, Drama</td>\n",
       "      <td>Jack Warden, Lee J. Cobb, Sidney Lumet, Regina...</td>\n",
       "      <td>Gross worldwide$2,945</td>\n",
       "      <td>Henry Fonda, Martin Balsam, Lee J. Cobb</td>\n",
       "    </tr>\n",
       "  </tbody>\n",
       "</table>\n",
       "</div>"
      ],
      "text/plain": [
       "                         Title  Year      Rating  \\\n",
       "0  1. The Shawshank Redemption  1994    9.3 (3M)   \n",
       "1             2. The Godfather  1972  9.2 (2.1M)   \n",
       "2           3. The Dark Knight  2008    9.0 (3M)   \n",
       "3     4. The Godfather Part II  1974  9.0 (1.4M)   \n",
       "4              5. 12 Angry Men  1957  9.0 (917K)   \n",
       "\n",
       "                                               Genre  \\\n",
       "0            Epic, Period Drama, Prison Drama, Drama   \n",
       "1              Epic, Gangster, Tragedy, Crime, Drama   \n",
       "2  Action Epic, Epic, Superhero, Tragedy, Action,...   \n",
       "3              Epic, Gangster, Tragedy, Crime, Drama   \n",
       "4     Legal Drama, Psychological Drama, Crime, Drama   \n",
       "\n",
       "                                         Director(s)  \\\n",
       "0  Bob Gunton, Frank Darabont, Morgan Freeman, Ti...   \n",
       "1  Al Pacino, Marlon Brando, Mario Puzo, Peter Cl...   \n",
       "2  Salvatore Maroni, Michael Caine, Christian Bal...   \n",
       "3  Livio Giorgi, Al Pacino, Mario Puzo, Francis F...   \n",
       "4  Jack Warden, Lee J. Cobb, Sidney Lumet, Regina...   \n",
       "\n",
       "              Box Office Revenue                                  Lead Actors  \n",
       "0     Gross worldwide$29,332,133      Bob Gunton, Tim Robbins, Morgan Freeman  \n",
       "1    Gross worldwide$250,342,198         Al Pacino, Marlon Brando, James Caan  \n",
       "2  Gross worldwide$1,009,057,329  Christian Bale, Aaron Eckhart, Heath Ledger  \n",
       "3     Gross worldwide$47,964,222     Al Pacino, Robert De Niro, Robert Duvall  \n",
       "4          Gross worldwide$2,945      Henry Fonda, Martin Balsam, Lee J. Cobb  "
      ]
     },
     "execution_count": 5,
     "metadata": {},
     "output_type": "execute_result"
    }
   ],
   "source": [
    "# Load the processed data\n",
    "data_path = '../data/imdb_top_movies.csv'\n",
    "movies_df = pd.read_csv(data_path)\n",
    "\n",
    "# Display the first few rows of the dataset\n",
    "movies_df.head()"
   ]
  },
  {
   "cell_type": "markdown",
   "metadata": {},
   "source": [
    "## Data Overview\n",
    "\n",
    "Let's take a look at the basic statistics and structure of the dataset."
   ]
  },
  {
   "cell_type": "code",
   "execution_count": 6,
   "metadata": {},
   "outputs": [
    {
     "name": "stdout",
     "output_type": "stream",
     "text": [
      "<class 'pandas.core.frame.DataFrame'>\n",
      "RangeIndex: 250 entries, 0 to 249\n",
      "Data columns (total 7 columns):\n",
      " #   Column              Non-Null Count  Dtype \n",
      "---  ------              --------------  ----- \n",
      " 0   Title               250 non-null    object\n",
      " 1   Year                250 non-null    int64 \n",
      " 2   Rating              250 non-null    object\n",
      " 3   Genre               250 non-null    object\n",
      " 4   Director(s)         250 non-null    object\n",
      " 5   Box Office Revenue  250 non-null    object\n",
      " 6   Lead Actors         250 non-null    object\n",
      "dtypes: int64(1), object(6)\n",
      "memory usage: 13.8+ KB\n"
     ]
    }
   ],
   "source": [
    "# Display basic statistics\n",
    "movies_df.describe(include='all')\n",
    "\n",
    "# Display the data types and missing values\n",
    "movies_df.info()"
   ]
  },
  {
   "cell_type": "code",
   "execution_count": null,
   "metadata": {},
   "outputs": [],
   "source": []
  }
 ],
 "metadata": {
  "kernelspec": {
   "display_name": "base",
   "language": "python",
   "name": "python3"
  },
  "language_info": {
   "codemirror_mode": {
    "name": "ipython",
    "version": 3
   },
   "file_extension": ".py",
   "mimetype": "text/x-python",
   "name": "python",
   "nbconvert_exporter": "python",
   "pygments_lexer": "ipython3",
   "version": "3.12.7"
  }
 },
 "nbformat": 4,
 "nbformat_minor": 2
}
